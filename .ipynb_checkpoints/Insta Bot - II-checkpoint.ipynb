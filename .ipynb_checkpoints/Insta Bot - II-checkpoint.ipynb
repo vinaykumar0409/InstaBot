{
 "cells": [
  {
   "cell_type": "code",
   "execution_count": 93,
   "id": "4b8ffdae",
   "metadata": {},
   "outputs": [],
   "source": [
    "from selenium import webdriver\n",
    "from selenium.webdriver.common.by import By\n",
    "from selenium.webdriver.support.wait import WebDriverWait\n",
    "from selenium.webdriver.support import expected_conditions as EC"
   ]
  },
  {
   "cell_type": "code",
   "execution_count": 4,
   "id": "f6075013",
   "metadata": {},
   "outputs": [],
   "source": [
    "import time"
   ]
  },
  {
   "cell_type": "code",
   "execution_count": 148,
   "id": "4d55af38",
   "metadata": {},
   "outputs": [],
   "source": [
    "from datetime import datetime, timedelta"
   ]
  },
  {
   "cell_type": "code",
   "execution_count": 171,
   "id": "82336fc1",
   "metadata": {},
   "outputs": [],
   "source": [
    "import matplotlib.pyplot as plt"
   ]
  },
  {
   "cell_type": "code",
   "execution_count": 206,
   "id": "1a4b966e",
   "metadata": {},
   "outputs": [],
   "source": [
    "import pandas as pd\n",
    "import re"
   ]
  },
  {
   "cell_type": "code",
   "execution_count": 3,
   "id": "bf42d040",
   "metadata": {},
   "outputs": [],
   "source": [
    "driver = webdriver.Edge()"
   ]
  },
  {
   "cell_type": "markdown",
   "id": "3c9eeedd",
   "metadata": {},
   "source": [
    "# Login"
   ]
  },
  {
   "cell_type": "code",
   "execution_count": 17,
   "id": "1a8ec0a8",
   "metadata": {},
   "outputs": [],
   "source": [
    "def ig_login(username, password) :\n",
    "    '''\n",
    "    This function opens the instagram logins page\n",
    "    and enters the login details as per given parameters\n",
    "    username and password\n",
    "    and clicks on login\n",
    "    '''\n",
    "    try :\n",
    "        driver.get('https://www.instagram.com/')\n",
    "        time.sleep(3)\n",
    "        labels = driver.find_elements(By.XPATH, \"//input\")\n",
    "        labels[0].send_keys(username)\n",
    "        labels[1].send_keys(password)\n",
    "        login_btn = driver.find_element(By.CLASS_NAME, '_acap')\n",
    "        login_btn.click()\n",
    "        time.sleep(5)\n",
    "        btn = driver.find_element(By.XPATH, \"//button[@class = '_a9-- _ap36 _a9_1']\")\n",
    "        btn.click()\n",
    "    except Exception as e :\n",
    "        print(\"This is the error : \", e)"
   ]
  },
  {
   "cell_type": "code",
   "execution_count": 18,
   "id": "d4e8f9c3",
   "metadata": {},
   "outputs": [],
   "source": [
    "username = 'Sample_username'\n",
    "password = 'Sample_password'\n",
    "ig_login(username, password)"
   ]
  },
  {
   "cell_type": "code",
   "execution_count": 22,
   "id": "0191a75f",
   "metadata": {},
   "outputs": [],
   "source": [
    "def search_user(name) :\n",
    "    search = driver.find_element(By.XPATH, \"(//div[@class='x9f619 x3nfvp2 xr9ek0c xjpr12u xo237n4 x6pnmvc x7nr27j x12dmmrz xz9dl7a xn6708d xsag5q8 x1ye3gou x80pfx3 x159b3zp x1dn74xm xif99yt x172qv1o x10djquj x1lhsz42 xzauu7c xdoji71 x1dejxi8 x9k3k5o xs3sg5q x11hdxyr x12ldp4w x1wj20lx x1lq5wgf xgqcy7u x30kzoy x9jhf4c'])[2]\")\n",
    "    search.click()\n",
    "    s = driver.find_element(By.XPATH, \"(//input[@placeholder='Search'])[1]\")\n",
    "    s.send_keys(name)\n",
    "    time.sleep(5)\n",
    "    result = driver.find_elements(By.XPATH, \"//span[@class = 'x1lliihq x1plvlek xryxfnj x1n2onr6 x193iq5w xeuugli x1fj9vlw x13faqbe x1vvkbs x1s928wv xhkezso x1gmr53x x1cpjm7i x1fgarty x1943h6x x1i0vuye xvs91rp x1s688f x5n08af x10wh9bi x1wdrske x8viiok x18hxmgj']\")\n",
    "    user_names = []\n",
    "    hastags = []\n",
    "    for i in range(len(result)) :\n",
    "        x = result[i].text\n",
    "        if x[0] == '#' :\n",
    "            hastags.append(x)\n",
    "        else :\n",
    "            user_names.append(x)\n",
    "    search.click()\n",
    "    return user_names"
   ]
  },
  {
   "cell_type": "code",
   "execution_count": 21,
   "id": "62619503",
   "metadata": {},
   "outputs": [],
   "source": [
    "user_names = search_user('food')"
   ]
  },
  {
   "cell_type": "code",
   "execution_count": 24,
   "id": "ecd3b4a0",
   "metadata": {},
   "outputs": [
    {
     "data": {
      "text/plain": [
       "['dilsefoodie',\n",
       " 'food_naut',\n",
       " 'foodis.in',\n",
       " 'chef_muxsin',\n",
       " 'jammgnam',\n",
       " 'sunonakuchkhaatehai',\n",
       " 'food',\n",
       " 'sparksidephotographyforfoodies',\n",
       " 'kanpuriya_foody',\n",
       " 'foodycheff']"
      ]
     },
     "execution_count": 24,
     "metadata": {},
     "output_type": "execute_result"
    }
   ],
   "source": [
    "user_names[:10]"
   ]
  },
  {
   "cell_type": "markdown",
   "id": "62871aee",
   "metadata": {},
   "source": [
    "####  <p> 1.From the list of instagram handles you obtained when you searched ‘food’ in previous project. Open the first 10 handles and find the top 5 which have the highest number of followers</p>"
   ]
  },
  {
   "cell_type": "code",
   "execution_count": null,
   "id": "110d20fb",
   "metadata": {},
   "outputs": [],
   "source": [
    "def search_user(name) :\n",
    "    wait = WebDriverWait(driver, 10)\n",
    "    search = wait.until(EC.presence_of_element_located((By.XPATH, \"//div[@class = 'x9f619 xjbqb8w x78zum5 x168nmei x13lgxp2 x5pf9jr xo71vjh x1plvlek xryxfnj x1c4vz4f x2lah0s xdt5ytf xqjyukv x1qjc9v5 x1oa3qoh x1nhvcw1 x1dr59a3 xixxii4 x13vifvy xeq5yr9 x1n327nk']/div/div/div/div/div[2]/div[2]\")))\n",
    "    search.click()\n",
    "    s = wait.until(EC.presence_of_element_located((By.XPATH, \"(//input[@placeholder='Search'])[1]\")))\n",
    "    s.send_keys(name)\n",
    "    li = wait.until(EC.presence_of_all_elements_located((By.XPATH, \"//div[@class = 'x6s0dn4 x78zum5 xdt5ytf x5yr21d x1odjw0f x1n2onr6 xh8yej3']/div/a/div/div/div/div[@class = 'x9f619 x1n2onr6 x1ja2u2z x78zum5 x1iyjqo2 xs83m0k xeuugli x1qughib x6s0dn4 x1a02dak x1q0g3np xdl72j9']/div/div/div/span\")))\n",
    "    for user in li :\n",
    "        if user.text == name :\n",
    "            user.click()\n",
    "            break\n",
    "    search.click()"
   ]
  },
  {
   "cell_type": "code",
   "execution_count": 114,
   "id": "d1668711",
   "metadata": {},
   "outputs": [],
   "source": [
    "def user_followers_count(name):\n",
    "    driver.get('https://www.instagram.com/' + name)\n",
    "    wait = WebDriverWait(driver, 10)\n",
    "    a = wait.until(EC.presence_of_all_elements_located((By.XPATH, '//span[@class=\"_ac2a\"]')))\n",
    "    Numfollowers = a[1].get_attribute('title')\n",
    "    Numfollowers = Numfollowers.replace(\",\", \"\")\n",
    "    time.sleep(2)\n",
    "    return int(Numfollowers)"
   ]
  },
  {
   "cell_type": "code",
   "execution_count": 115,
   "id": "f70ff033",
   "metadata": {},
   "outputs": [
    {
     "name": "stdout",
     "output_type": "stream",
     "text": [
      "dilsefoodie 1190275\n",
      "food_naut 35210\n",
      "foodis.in 18786\n",
      "chef_muxsin 28187\n",
      "jammgnam 34543\n",
      "sunonakuchkhaatehai 29208\n",
      "food 181936\n",
      "sparksidephotographyforfoodies 5762\n",
      "kanpuriya_foody 10695\n",
      "foodycheff 561991\n"
     ]
    }
   ],
   "source": [
    "dict = {}\n",
    "for i in range(10):\n",
    "    followers = user_followers_count(user_names[i])\n",
    "    dict[followers] = user_names[i]"
   ]
  },
  {
   "cell_type": "code",
   "execution_count": 125,
   "id": "713b6f79",
   "metadata": {},
   "outputs": [
    {
     "data": {
      "text/plain": [
       "[1190275, 561991, 181936, 35210, 34543, 29208, 28187, 18786, 10695, 5762]"
      ]
     },
     "execution_count": 125,
     "metadata": {},
     "output_type": "execute_result"
    }
   ],
   "source": [
    "d = sorted([x for x in dict], reverse=True)\n",
    "d"
   ]
  },
  {
   "cell_type": "code",
   "execution_count": 127,
   "id": "80140c11",
   "metadata": {},
   "outputs": [
    {
     "data": {
      "text/plain": [
       "['dilsefoodie', 'foodycheff', 'food', 'food_naut', 'jammgnam']"
      ]
     },
     "execution_count": 127,
     "metadata": {},
     "output_type": "execute_result"
    }
   ],
   "source": [
    "top5_users = []\n",
    "for i in d[:5] :\n",
    "    top5_users.append(dict[i])\n",
    "top5_users"
   ]
  },
  {
   "cell_type": "markdown",
   "id": "e8141e2a",
   "metadata": {},
   "source": [
    "#### 2.Now Find the number of posts these handles have done in the previous 3 days."
   ]
  },
  {
   "cell_type": "code",
   "execution_count": 153,
   "id": "9118a01a",
   "metadata": {},
   "outputs": [
    {
     "name": "stdout",
     "output_type": "stream",
     "text": [
      "2023-05-17T18:45:57.000Z\n",
      "2023-05-17 18:45:57\n",
      "2023-11-17 19:56:31.709423\n"
     ]
    },
    {
     "data": {
      "text/plain": [
       "185"
      ]
     },
     "execution_count": 153,
     "metadata": {},
     "output_type": "execute_result"
    }
   ],
   "source": [
    "post_date = wait.until(EC.presence_of_element_located((By.CLASS_NAME, '_aaqe'))).get_attribute('datetime')\n",
    "print(post_date)\n",
    "html_date = datetime.strptime(post_date, \"%Y-%m-%dT%H:%M:%S.%fZ\")\n",
    "print(html_date)\n",
    "# Calculate the difference in days between the HTML date and today\n",
    "n = 5  # Replace this with the desired number of days\n",
    "print(datetime.utcnow())\n",
    "difference_in_days = abs((html_date - datetime.utcnow()).days)\n",
    "difference_in_days"
   ]
  },
  {
   "cell_type": "code",
   "execution_count": 168,
   "id": "61753452",
   "metadata": {},
   "outputs": [],
   "source": [
    "def Numposts(name, Numdays) :\n",
    "    driver.get('https://www.instagram.com/' + name)\n",
    "    wait = WebDriverWait(driver, 10)\n",
    "    post = wait.until(EC.presence_of_element_located((By.CLASS_NAME, '_aagw')))\n",
    "    post.click()\n",
    "    flag = True\n",
    "    count = 0\n",
    "    while True :\n",
    "        post_date = wait.until(EC.presence_of_element_located((By.CLASS_NAME, '_aaqe'))).get_attribute('datetime')\n",
    "        post_time = datetime.strptime(post_date, \"%Y-%m-%dT%H:%M:%S.%fZ\")\n",
    "        difference = abs((datetime.utcnow() - post_time).days)\n",
    "        if difference > Numdays :\n",
    "            break\n",
    "        nxt = driver.find_elements(By.CLASS_NAME, '_abl-')\n",
    "        if flag :\n",
    "            flag = False\n",
    "            nxt[0].click()\n",
    "        else :\n",
    "            nxt[1].click()\n",
    "        count += 1\n",
    "    return count\n",
    "                      "
   ]
  },
  {
   "cell_type": "code",
   "execution_count": 169,
   "id": "7c9f3823",
   "metadata": {
    "scrolled": true
   },
   "outputs": [],
   "source": [
    "post_count = {}\n",
    "for i in top5_users :\n",
    "    count = Numposts(i, 3)\n",
    "    post_count[i] = count"
   ]
  },
  {
   "cell_type": "code",
   "execution_count": 170,
   "id": "5b41b117",
   "metadata": {},
   "outputs": [
    {
     "data": {
      "text/plain": [
       "{'dilsefoodie': 5, 'foodycheff': 4, 'food': 3, 'food_naut': 0, 'jammgnam': 0}"
      ]
     },
     "execution_count": 170,
     "metadata": {},
     "output_type": "execute_result"
    }
   ],
   "source": [
    "post_count"
   ]
  },
  {
   "cell_type": "markdown",
   "id": "6df834b1",
   "metadata": {},
   "source": [
    "#### 3.Depict this information using a suitable graph."
   ]
  },
  {
   "cell_type": "code",
   "execution_count": 183,
   "id": "b90fcdc6",
   "metadata": {},
   "outputs": [
    {
     "data": {
      "image/png": "[encoded data removed]",
      "text/plain": [
       "<Figure size 640x480 with 1 Axes>"
      ]
     },
     "metadata": {},
     "output_type": "display_data"
    }
   ],
   "source": [
    "plt.bar(range(len(post_count)), list(post_count.values()), align='center')\n",
    "plt.xticks(range(len(post_count)), list(post_count.keys()))\n",
    "plt.show()"
   ]
  },
  {
   "cell_type": "markdown",
   "id": "d971e7b1",
   "metadata": {},
   "source": [
    "#### 1.Open the 5 handles you obtained in the last question, and scrape the content of the first 10 posts of each handle."
   ]
  },
  {
   "cell_type": "code",
   "execution_count": 191,
   "id": "bd38f2f3",
   "metadata": {},
   "outputs": [],
   "source": [
    "def post_scrape(name, num) :\n",
    "    driver.get('https://www.instagram.com/' + name)\n",
    "    wait = WebDriverWait(driver, 10)\n",
    "    post = wait.until(EC.presence_of_element_located((By.CLASS_NAME, '_aagw')))\n",
    "    post.click()\n",
    "    posts_content = []\n",
    "    flag = True\n",
    "    for i in range(num) :\n",
    "        h1 = wait.until(EC.presence_of_element_located((By.XPATH, '//div[@class = \"_a9zs\"]//h1[@class = \"_ap3a _aaco _aacu _aacx _aad7 _aade\"]')))\n",
    "        posts_content.append(h1.text)\n",
    "        nxt = driver.find_elements(By.CLASS_NAME, '_abl-')\n",
    "        if flag :\n",
    "            flag = False\n",
    "            nxt[0].click()\n",
    "        else :\n",
    "            nxt[1].click()\n",
    "    return posts_content"
   ]
  },
  {
   "cell_type": "code",
   "execution_count": 201,
   "id": "df68a478",
   "metadata": {},
   "outputs": [],
   "source": [
    "posts_content = []\n",
    "for i in top5_users :\n",
    "    posts = post_scrape(i, 10)\n",
    "    posts_content.extend(posts)"
   ]
  },
  {
   "cell_type": "markdown",
   "id": "c37a16de",
   "metadata": {},
   "source": [
    "#### 2.Prepare a list of all words used in all the scraped posts and calculate the frequency of each word."
   ]
  },
  {
   "cell_type": "code",
   "execution_count": 225,
   "id": "8b454c42",
   "metadata": {},
   "outputs": [],
   "source": [
    "words = []\n",
    "for i in posts_content :\n",
    "    content = i.split()\n",
    "    words.extend(content)"
   ]
  },
  {
   "cell_type": "code",
   "execution_count": 246,
   "id": "0c5232b8",
   "metadata": {
    "scrolled": true
   },
   "outputs": [],
   "source": [
    "words_freq = {}\n",
    "for i in words :\n",
    "    w = i.lower()\n",
    "    words_freq[w] = words_freq.get(w,0) + 1"
   ]
  },
  {
   "cell_type": "markdown",
   "id": "cd01c3f4",
   "metadata": {},
   "source": [
    "#### 3.Create a csv file with two columns : the word and its frequency"
   ]
  },
  {
   "cell_type": "code",
   "execution_count": 253,
   "id": "cd704956",
   "metadata": {},
   "outputs": [],
   "source": [
    "df = pd.DataFrame(columns=['word', 'frequency'])\n",
    "df['word'] = list(words_freq.keys())\n",
    "df['frequency'] = list(words_freq.values())"
   ]
  },
  {
   "cell_type": "code",
   "execution_count": 338,
   "id": "d37cad10",
   "metadata": {},
   "outputs": [],
   "source": [
    "df.to_csv('words_frequency.csv')"
   ]
  },
  {
   "cell_type": "code",
   "execution_count": 254,
   "id": "feb0a40f",
   "metadata": {
    "scrolled": true
   },
   "outputs": [
    {
     "data": {
      "text/html": [
       "<div>\n",
       "<style scoped>\n",
       "    .dataframe tbody tr th:only-of-type {\n",
       "        vertical-align: middle;\n",
       "    }\n",
       "\n",
       "    .dataframe tbody tr th {\n",
       "        vertical-align: top;\n",
       "    }\n",
       "\n",
       "    .dataframe thead th {\n",
       "        text-align: right;\n",
       "    }\n",
       "</style>\n",
       "<table border=\"1\" class=\"dataframe\">\n",
       "  <thead>\n",
       "    <tr style=\"text-align: right;\">\n",
       "      <th></th>\n",
       "      <th>word</th>\n",
       "      <th>frequency</th>\n",
       "    </tr>\n",
       "  </thead>\n",
       "  <tbody>\n",
       "    <tr>\n",
       "      <th>0</th>\n",
       "      <td>yesterday</td>\n",
       "      <td>1</td>\n",
       "    </tr>\n",
       "    <tr>\n",
       "      <th>1</th>\n",
       "      <td>we</td>\n",
       "      <td>3</td>\n",
       "    </tr>\n",
       "    <tr>\n",
       "      <th>2</th>\n",
       "      <td>celebrate</td>\n",
       "      <td>1</td>\n",
       "    </tr>\n",
       "    <tr>\n",
       "      <th>3</th>\n",
       "      <td>pavit's</td>\n",
       "      <td>1</td>\n",
       "    </tr>\n",
       "    <tr>\n",
       "      <th>4</th>\n",
       "      <td>first</td>\n",
       "      <td>5</td>\n",
       "    </tr>\n",
       "  </tbody>\n",
       "</table>\n",
       "</div>"
      ],
      "text/plain": [
       "        word  frequency\n",
       "0  yesterday          1\n",
       "1         we          3\n",
       "2  celebrate          1\n",
       "3    pavit's          1\n",
       "4      first          5"
      ]
     },
     "execution_count": 254,
     "metadata": {},
     "output_type": "execute_result"
    }
   ],
   "source": [
    "df.head()"
   ]
  },
  {
   "cell_type": "markdown",
   "id": "97225b22",
   "metadata": {},
   "source": [
    "#### 4.Now, find the hashtags that were most popular among these bloggers"
   ]
  },
  {
   "cell_type": "code",
   "execution_count": 264,
   "id": "1fd28c40",
   "metadata": {
    "scrolled": true
   },
   "outputs": [
    {
     "data": {
      "text/html": [
       "<div>\n",
       "<style scoped>\n",
       "    .dataframe tbody tr th:only-of-type {\n",
       "        vertical-align: middle;\n",
       "    }\n",
       "\n",
       "    .dataframe tbody tr th {\n",
       "        vertical-align: top;\n",
       "    }\n",
       "\n",
       "    .dataframe thead th {\n",
       "        text-align: right;\n",
       "    }\n",
       "</style>\n",
       "<table border=\"1\" class=\"dataframe\">\n",
       "  <thead>\n",
       "    <tr style=\"text-align: right;\">\n",
       "      <th></th>\n",
       "      <th>word</th>\n",
       "      <th>frequency</th>\n",
       "    </tr>\n",
       "  </thead>\n",
       "  <tbody>\n",
       "    <tr>\n",
       "      <th>13</th>\n",
       "      <td>#dilsefoodie</td>\n",
       "      <td>10</td>\n",
       "    </tr>\n",
       "    <tr>\n",
       "      <th>14</th>\n",
       "      <td>#food</td>\n",
       "      <td>19</td>\n",
       "    </tr>\n",
       "    <tr>\n",
       "      <th>15</th>\n",
       "      <td>#baltimeat</td>\n",
       "      <td>1</td>\n",
       "    </tr>\n",
       "    <tr>\n",
       "      <th>16</th>\n",
       "      <td>#dhaba1986</td>\n",
       "      <td>1</td>\n",
       "    </tr>\n",
       "    <tr>\n",
       "      <th>17</th>\n",
       "      <td>#nehruplace</td>\n",
       "      <td>1</td>\n",
       "    </tr>\n",
       "  </tbody>\n",
       "</table>\n",
       "</div>"
      ],
      "text/plain": [
       "            word  frequency\n",
       "13  #dilsefoodie         10\n",
       "14         #food         19\n",
       "15    #baltimeat          1\n",
       "16    #dhaba1986          1\n",
       "17   #nehruplace          1"
      ]
     },
     "execution_count": 264,
     "metadata": {},
     "output_type": "execute_result"
    }
   ],
   "source": [
    "hashtags = df[df['word'].str.startswith('#')]\n",
    "hashtags.head()"
   ]
  },
  {
   "cell_type": "code",
   "execution_count": 271,
   "id": "e048676d",
   "metadata": {},
   "outputs": [],
   "source": [
    "hashtags = hashtags.sort_values(by='frequency', ascending = False)"
   ]
  },
  {
   "cell_type": "code",
   "execution_count": 272,
   "id": "45d2a871",
   "metadata": {},
   "outputs": [
    {
     "data": {
      "text/html": [
       "<div>\n",
       "<style scoped>\n",
       "    .dataframe tbody tr th:only-of-type {\n",
       "        vertical-align: middle;\n",
       "    }\n",
       "\n",
       "    .dataframe tbody tr th {\n",
       "        vertical-align: top;\n",
       "    }\n",
       "\n",
       "    .dataframe thead th {\n",
       "        text-align: right;\n",
       "    }\n",
       "</style>\n",
       "<table border=\"1\" class=\"dataframe\">\n",
       "  <thead>\n",
       "    <tr style=\"text-align: right;\">\n",
       "      <th></th>\n",
       "      <th>word</th>\n",
       "      <th>frequency</th>\n",
       "    </tr>\n",
       "  </thead>\n",
       "  <tbody>\n",
       "    <tr>\n",
       "      <th>14</th>\n",
       "      <td>#food</td>\n",
       "      <td>19</td>\n",
       "    </tr>\n",
       "    <tr>\n",
       "      <th>13</th>\n",
       "      <td>#dilsefoodie</td>\n",
       "      <td>10</td>\n",
       "    </tr>\n",
       "    <tr>\n",
       "      <th>1343</th>\n",
       "      <td>#jammgnamfood</td>\n",
       "      <td>10</td>\n",
       "    </tr>\n",
       "    <tr>\n",
       "      <th>1062</th>\n",
       "      <td>#foodnaut</td>\n",
       "      <td>10</td>\n",
       "    </tr>\n",
       "    <tr>\n",
       "      <th>1061</th>\n",
       "      <td>#yummy</td>\n",
       "      <td>10</td>\n",
       "    </tr>\n",
       "    <tr>\n",
       "      <th>1053</th>\n",
       "      <td>#foodie</td>\n",
       "      <td>10</td>\n",
       "    </tr>\n",
       "    <tr>\n",
       "      <th>1342</th>\n",
       "      <td>#jammgnam</td>\n",
       "      <td>10</td>\n",
       "    </tr>\n",
       "    <tr>\n",
       "      <th>1056</th>\n",
       "      <td>#foodblogger</td>\n",
       "      <td>9</td>\n",
       "    </tr>\n",
       "    <tr>\n",
       "      <th>1055</th>\n",
       "      <td>#foodporn</td>\n",
       "      <td>9</td>\n",
       "    </tr>\n",
       "    <tr>\n",
       "      <th>1060</th>\n",
       "      <td>#homemade</td>\n",
       "      <td>9</td>\n",
       "    </tr>\n",
       "  </tbody>\n",
       "</table>\n",
       "</div>"
      ],
      "text/plain": [
       "               word  frequency\n",
       "14            #food         19\n",
       "13     #dilsefoodie         10\n",
       "1343  #jammgnamfood         10\n",
       "1062      #foodnaut         10\n",
       "1061         #yummy         10\n",
       "1053        #foodie         10\n",
       "1342      #jammgnam         10\n",
       "1056   #foodblogger          9\n",
       "1055      #foodporn          9\n",
       "1060      #homemade          9"
      ]
     },
     "execution_count": 272,
     "metadata": {},
     "output_type": "execute_result"
    }
   ],
   "source": [
    "hashtags.head(10)"
   ]
  },
  {
   "cell_type": "markdown",
   "id": "89370afd",
   "metadata": {},
   "source": [
    "#### 5.Plot a Pie Chart of the top 5 hashtags obtained and the number of times they were used by these bloggers in the scraped posts."
   ]
  },
  {
   "cell_type": "code",
   "execution_count": 274,
   "id": "316471a9",
   "metadata": {},
   "outputs": [],
   "source": [
    "top5_hashtags = hashtags.head()"
   ]
  },
  {
   "cell_type": "code",
   "execution_count": 279,
   "id": "6648714a",
   "metadata": {},
   "outputs": [
    {
     "data": {
      "image/png": "[encoded data removed]",
      "text/plain": [
       "<Figure size 640x480 with 1 Axes>"
      ]
     },
     "metadata": {},
     "output_type": "display_data"
    }
   ],
   "source": [
    "plt.pie(top5_hashtags['frequency'], labels=top5_hashtags['word'], autopct='%1.1f%%')\n",
    "plt.title('Top 5 Hashtags and Their Frequencies')\n",
    "plt.show()"
   ]
  },
  {
   "cell_type": "markdown",
   "id": "bf154457",
   "metadata": {},
   "source": [
    "#### 1.Find out the likes of the top 10 posts of the 5 handles obtained earlier."
   ]
  },
  {
   "cell_type": "code",
   "execution_count": 323,
   "id": "4c3a05b8",
   "metadata": {},
   "outputs": [],
   "source": [
    "def post_like_count(name, num) :\n",
    "    driver.get('https://www.instagram.com/' + name)\n",
    "    wait = WebDriverWait(driver, 10)\n",
    "    followers = wait.until(EC.presence_of_all_elements_located((By.XPATH, '//span[@class = \"_ac2a\"]')))\n",
    "    followers_count = (followers[1].get_attribute('title')).replace(\",\", \"\")\n",
    "    post = wait.until(EC.presence_of_element_located((By.CLASS_NAME, '_aagw')))\n",
    "    post.click()\n",
    "    likes_count = []\n",
    "    flag = True\n",
    "    for i in range(num) :\n",
    "        likes = wait.until(EC.presence_of_all_elements_located((By.XPATH, '//section//span[@class = \"html-span xdj266r x11i5rnm xat24cr x1mh8g0r xexx8yu x4uap5 x18d9i69 xkhd6sd x1hl2dhg x16tdsg8 x1vvkbs\"]')))\n",
    "        likes = (likes[-1].text).replace(\",\", \"\")\n",
    "        likes_count.append(int(likes))\n",
    "        nxt = driver.find_elements(By.CLASS_NAME, '_abl-')\n",
    "        if flag :\n",
    "            flag = False\n",
    "            nxt[0].click()\n",
    "        else :\n",
    "            nxt[1].click()\n",
    "    return likes_count, int(followers_count)"
   ]
  },
  {
   "cell_type": "code",
   "execution_count": 329,
   "id": "093fcbda",
   "metadata": {},
   "outputs": [],
   "source": [
    "likes_count = {}\n",
    "user_followers = {}\n",
    "for i in top5_users :\n",
    "    likes_count[i], user_followers[i] = post_like_count(i, 10)"
   ]
  },
  {
   "cell_type": "markdown",
   "id": "3d46ed57",
   "metadata": {},
   "source": [
    "#### 2.Calculate the average likes for a handle."
   ]
  },
  {
   "cell_type": "code",
   "execution_count": 330,
   "id": "1ddcd3b1",
   "metadata": {},
   "outputs": [
    {
     "data": {
      "text/plain": [
       "{'dilsefoodie': 4780.6,\n",
       " 'foodycheff': 1846.7,\n",
       " 'food': 412.0,\n",
       " 'food_naut': 664.6,\n",
       " 'jammgnam': 320.7}"
      ]
     },
     "execution_count": 330,
     "metadata": {},
     "output_type": "execute_result"
    }
   ],
   "source": [
    "for i in likes_count :\n",
    "    likes_count[i] = (sum(likes_count[i]) / len(likes_count[i]))\n",
    "likes_count"
   ]
  },
  {
   "cell_type": "markdown",
   "id": "88a7426d",
   "metadata": {},
   "source": [
    "#### 3.Divide the average likes obtained from the number of followers of the handle to get the average followers:like ratio of each handle."
   ]
  },
  {
   "cell_type": "code",
   "execution_count": 331,
   "id": "dfb9fda9",
   "metadata": {},
   "outputs": [
    {
     "data": {
      "text/plain": [
       "{'dilsefoodie': 1190603,\n",
       " 'foodycheff': 562211,\n",
       " 'food': 182003,\n",
       " 'food_naut': 35226,\n",
       " 'jammgnam': 34549}"
      ]
     },
     "execution_count": 331,
     "metadata": {},
     "output_type": "execute_result"
    }
   ],
   "source": [
    "user_followers"
   ]
  },
  {
   "cell_type": "code",
   "execution_count": 332,
   "id": "22f6822e",
   "metadata": {},
   "outputs": [
    {
     "name": "stdout",
     "output_type": "stream",
     "text": [
      "dilsefoodie 1190603 4780.6\n",
      "foodycheff 562211 1846.7\n",
      "food 182003 412.0\n",
      "food_naut 35226 664.6\n",
      "jammgnam 34549 320.7\n"
     ]
    }
   ],
   "source": [
    "average_followers_like_ratio = {}\n",
    "for i in likes_count:\n",
    "    print(i, user_followers[i], likes_count[i])\n",
    "    average_followers_like_ratio[i] = user_followers[i] / likes_count[i]"
   ]
  },
  {
   "cell_type": "code",
   "execution_count": 333,
   "id": "75cd5e0b",
   "metadata": {},
   "outputs": [
    {
     "data": {
      "text/plain": [
       "{'dilsefoodie': 249.04886415931054,\n",
       " 'foodycheff': 304.4408945686901,\n",
       " 'food': 441.75485436893206,\n",
       " 'food_naut': 53.00331026181161,\n",
       " 'jammgnam': 107.72996570003119}"
      ]
     },
     "execution_count": 333,
     "metadata": {},
     "output_type": "execute_result"
    }
   ],
   "source": [
    "average_followers_like_ratio"
   ]
  },
  {
   "cell_type": "markdown",
   "id": "4cd10ec8",
   "metadata": {},
   "source": [
    "#### 4.Create a bar graph to depict the above obtained information."
   ]
  },
  {
   "cell_type": "code",
   "execution_count": 337,
   "id": "735f5158",
   "metadata": {},
   "outputs": [
    {
     "data": {
      "image/png": "[encoded data removed]",
      "text/plain": [
       "<Figure size 640x480 with 1 Axes>"
      ]
     },
     "metadata": {},
     "output_type": "display_data"
    }
   ],
   "source": [
    "plt.pie(average_followers_like_ratio.values(), labels=average_followers_like_ratio.keys(), autopct = \"%1.1f%%\")\n",
    "plt.title('Average Followers Like Ratio')\n",
    "plt.show()"
   ]
  },
  {
   "cell_type": "code",
   "execution_count": null,
   "id": "addd3245",
   "metadata": {},
   "outputs": [],
   "source": []
  }
 ],
 "metadata": {
  "kernelspec": {
   "display_name": "Python 3 (ipykernel)",
   "language": "python",
   "name": "python3"
  },
  "language_info": {
   "codemirror_mode": {
    "name": "ipython",
    "version": 3
   },
   "file_extension": ".py",
   "mimetype": "text/x-python",
   "name": "python",
   "nbconvert_exporter": "python",
   "pygments_lexer": "ipython3",
   "version": "3.11.4"
  }
 },
 "nbformat": 4,
 "nbformat_minor": 5
}
