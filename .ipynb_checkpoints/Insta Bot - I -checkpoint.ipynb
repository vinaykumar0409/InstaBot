{
 "cells": [
  {
   "cell_type": "markdown",
   "id": "9e463072",
   "metadata": {},
   "source": [
    "# InstaBot Introduction - Part 1"
   ]
  },
  {
   "cell_type": "markdown",
   "id": "74f2d6b8",
   "metadata": {},
   "source": [
    "Your friend has opened a new Food Blogging handle on Instagram and wants to get famous. He wants to follow a lot of people so that he can get noticed quickly but it is a tedious task so he asks you to help him. As you have just learned automation using Selenium, you decided to help him by creating an Instagram Bot.\n",
    "You need to create different functions for each task."
   ]
  },
  {
   "cell_type": "code",
   "execution_count": 1,
   "id": "0807ea39",
   "metadata": {},
   "outputs": [],
   "source": [
    "from selenium import webdriver\n",
    "from selenium.webdriver.common.by import By"
   ]
  },
  {
   "cell_type": "code",
   "execution_count": 2,
   "id": "9d3543f7",
   "metadata": {},
   "outputs": [],
   "source": [
    "from selenium.webdriver.support.wait import WebDriverWait\n",
    "from selenium.webdriver.support import expected_conditions as EC"
   ]
  },
  {
   "cell_type": "code",
   "execution_count": 3,
   "id": "d15264d1",
   "metadata": {},
   "outputs": [],
   "source": [
    "import time"
   ]
  },
  {
   "cell_type": "code",
   "execution_count": 4,
   "id": "f8e32778",
   "metadata": {},
   "outputs": [],
   "source": [
    "driver = webdriver.Edge()"
   ]
  },
  {
   "cell_type": "code",
   "execution_count": 5,
   "id": "37f79c55",
   "metadata": {},
   "outputs": [],
   "source": [
    "driver.get('https://www.instagram.com/')"
   ]
  },
  {
   "cell_type": "markdown",
   "id": "e50b4892",
   "metadata": {},
   "source": [
    "# Login"
   ]
  },
  {
   "cell_type": "markdown",
   "id": "5c4d6a93",
   "metadata": {},
   "source": [
    "### Problem 1 : Login to your Instagram\n",
    "Login to your Instagram Handle  \n",
    "Submit with sample username and password"
   ]
  },
  {
   "cell_type": "code",
   "execution_count": 6,
   "id": "d774ccac",
   "metadata": {},
   "outputs": [],
   "source": [
    "def ig_login(username, password) :\n",
    "    '''\n",
    "    This function opens the instagram logins page\n",
    "    and enters the login details as per given parameters\n",
    "    username and password\n",
    "    and clicks on login\n",
    "    '''\n",
    "    try :\n",
    "        driver.get('https://www.instagram.com/')\n",
    "        time.sleep(3)\n",
    "        labels = driver.find_elements(By.XPATH, \"//input\")\n",
    "        labels[0].send_keys(username)\n",
    "        labels[1].send_keys(password)\n",
    "        login_btn = driver.find_element(By.CLASS_NAME, '_acap')\n",
    "        login_btn.click()\n",
    "        time.sleep(5)\n",
    "        try :\n",
    "            btn = driver.find_element(By.XPATH, \"//button[@class = '_a9-- _ap36 _a9_1']\")\n",
    "            btn.click()\n",
    "        except :\n",
    "            print('Notifications already turned off')\n",
    "    except Exception as e :\n",
    "        print(\"This is the error : \", e)"
   ]
  },
  {
   "cell_type": "code",
   "execution_count": 7,
   "id": "c9a3907d",
   "metadata": {},
   "outputs": [],
   "source": [
    "username = 'nikhil__34'\n",
    "password = 'noassword'"
   ]
  },
  {
   "cell_type": "code",
   "execution_count": 8,
   "id": "4429540e",
   "metadata": {
    "scrolled": true
   },
   "outputs": [
    {
     "name": "stdout",
     "output_type": "stream",
     "text": [
      "Notifications already turned off\n"
     ]
    }
   ],
   "source": [
    "ig_login(username, password)"
   ]
  },
  {
   "cell_type": "code",
   "execution_count": 9,
   "id": "774bda8e",
   "metadata": {},
   "outputs": [],
   "source": [
    "btn = driver.find_element(By.XPATH, \"//button[@class = '_a9-- _ap36 _a9_1']\")\n",
    "btn.click()"
   ]
  },
  {
   "cell_type": "code",
   "execution_count": 10,
   "id": "31837e88",
   "metadata": {},
   "outputs": [],
   "source": [
    "driver.maximize_window()"
   ]
  },
  {
   "cell_type": "markdown",
   "id": "db7f1202",
   "metadata": {},
   "source": [
    "## Search"
   ]
  },
  {
   "cell_type": "markdown",
   "id": "5304d4cb",
   "metadata": {},
   "source": [
    "### Problem 2 : Type for “food” in search bar\n",
    "Type for “food” in search bar and print all the names of the Instagram Handles that are displayed in list after typing “food”  \n",
    "Note : Make sure to avoid printing hashtags  "
   ]
  },
  {
   "cell_type": "code",
   "execution_count": 78,
   "id": "b849c784",
   "metadata": {},
   "outputs": [],
   "source": [
    "def search_users(name) :\n",
    "    '''\n",
    "    This functions takes the input of a name\n",
    "    and returns all the user names after searching the name\n",
    "    '''\n",
    "    wait = WebDriverWait(driver, 10)\n",
    "    search = wait.until(EC.presence_of_element_located((By.XPATH, \"//div[@class = 'x9f619 xjbqb8w x78zum5 x168nmei x13lgxp2 x5pf9jr xo71vjh x1plvlek xryxfnj x1c4vz4f x2lah0s xdt5ytf xqjyukv x1qjc9v5 x1oa3qoh x1nhvcw1 x1dr59a3 xixxii4 x13vifvy xeq5yr9 x1n327nk']/div/div/div/div/div[2]/div[2]\")))\n",
    "    search.click()\n",
    "    s = wait.until(EC.presence_of_element_located((By.XPATH, \"(//input[@placeholder='Search'])[1]\")))\n",
    "    s.send_keys(name)\n",
    "    result = wait.until(EC.presence_of_all_elements_located((By.XPATH, \"//div[@class = 'x6s0dn4 x78zum5 xdt5ytf x5yr21d x1odjw0f x1n2onr6 xh8yej3']/div/a/div/div/div/div[@class = 'x9f619 x1n2onr6 x1ja2u2z x78zum5 x1iyjqo2 xs83m0k xeuugli x1qughib x6s0dn4 x1a02dak x1q0g3np xdl72j9']/div/div/div/span\")))\n",
    "    user_names = []\n",
    "    hastags = []\n",
    "    for i in range(len(result)) :\n",
    "        x = result[i].text\n",
    "        if x[0] == '#' :\n",
    "            hastags.append(x)\n",
    "        else :\n",
    "            user_names.append(x)\n",
    "    search.click()\n",
    "    return user_names"
   ]
  },
  {
   "cell_type": "code",
   "execution_count": 77,
   "id": "343c8019",
   "metadata": {},
   "outputs": [
    {
     "data": {
      "text/plain": [
       "['food_naut',\n",
       " 'dilsefoodie',\n",
       " 'foodis.in',\n",
       " 'chef_muxsin',\n",
       " 'jammgnam',\n",
       " 'sunonakuchkhaatehai',\n",
       " 'food',\n",
       " 'sparksidephotographyforfoodies',\n",
       " 'kanpuriya_foody',\n",
       " 'foodycheff',\n",
       " 'instandfood',\n",
       " 'manuandfood',\n",
       " 'goa_uncensored',\n",
       " 'grabfoodid',\n",
       " '1mmehr',\n",
       " 'foodporium',\n",
       " 'yutinef',\n",
       " 'notorious_foodie',\n",
       " 'reelsandfood',\n",
       " 'danii_fashion_food',\n",
       " 'maldives.explores',\n",
       " 'amira58',\n",
       " 'foodymoodyblog',\n",
       " 'foodieyashh',\n",
       " 'foodiechina888',\n",
       " 'omuk_food',\n",
       " 'foodpharmer',\n",
       " 'foodie_mom423',\n",
       " 'vesmirvtarelke.ru',\n",
       " 'foodie_life_of_bangalore',\n",
       " 'brussels.travel',\n",
       " 'kitafoodfestival',\n",
       " 'insiderfood',\n",
       " 'china.travels',\n",
       " 'fun_n_.foods_life11',\n",
       " 'canada.explores',\n",
       " 'foodporn',\n",
       " 'germany.explores',\n",
       " 'sydney.explores',\n",
       " 'taipeitravels',\n",
       " 'foodie_bantai03',\n",
       " 'uk.explores',\n",
       " 'portugal.explores',\n",
       " 'madrid.explore',\n",
       " 'mexico.explores',\n",
       " 'thefoodbabe']"
      ]
     },
     "execution_count": 77,
     "metadata": {},
     "output_type": "execute_result"
    }
   ],
   "source": [
    "user_names = search_users('food')\n",
    "user_names"
   ]
  },
  {
   "cell_type": "markdown",
   "id": "4ba94952",
   "metadata": {},
   "source": [
    "### Problem 3 : Searching and Opening a profile\n",
    "Searching and Opening a profile using   \n",
    "Open profile of “So Delhi” "
   ]
  },
  {
   "cell_type": "code",
   "execution_count": 106,
   "id": "2200bce4",
   "metadata": {},
   "outputs": [],
   "source": [
    "def search_user(name) :\n",
    "    '''\n",
    "    Takes the username as input\n",
    "    opens the user profile\n",
    "    '''\n",
    "    wait = WebDriverWait(driver, 10)\n",
    "    search = wait.until(EC.presence_of_element_located((By.XPATH, \"//div[@class = 'x9f619 xjbqb8w x78zum5 x168nmei x13lgxp2 x5pf9jr xo71vjh x1plvlek xryxfnj x1c4vz4f x2lah0s xdt5ytf xqjyukv x1qjc9v5 x1oa3qoh x1nhvcw1 x1dr59a3 xixxii4 x13vifvy xeq5yr9 x1n327nk']/div/div/div/div/div[2]/div[2]\")))\n",
    "    search.click()\n",
    "    s = wait.until(EC.presence_of_element_located((By.XPATH, \"(//input[@placeholder='Search'])[1]\")))\n",
    "    s.send_keys(name)\n",
    "    li = wait.until(EC.presence_of_all_elements_located((By.XPATH, \"//div[@class = 'x6s0dn4 x78zum5 xdt5ytf x5yr21d x1odjw0f x1n2onr6 xh8yej3']/div/a/div/div/div/div[@class = 'x9f619 x1n2onr6 x1ja2u2z x78zum5 x1iyjqo2 xs83m0k xeuugli x1qughib x6s0dn4 x1a02dak x1q0g3np xdl72j9']/div/div/div/span\")))\n",
    "    for user in li :\n",
    "        if user.text == name :\n",
    "            user.click()\n",
    "            break\n",
    "    time.sleep(5)"
   ]
  },
  {
   "cell_type": "code",
   "execution_count": 67,
   "id": "1889016d",
   "metadata": {},
   "outputs": [],
   "source": [
    "search_user('sodelhi')"
   ]
  },
  {
   "cell_type": "markdown",
   "id": "561fdde9",
   "metadata": {},
   "source": [
    "### Problem 4 : Follow/Unfollow given handle\n",
    "Follow/Unfollow given handle -   \n",
    "1.Open the Instagram Handle of “So Delhi”  \n",
    "2.Start following it. Print a message if you are already following  \n",
    "3.After following, unfollow the instagram handle. Print a message if you have already unfollowed."
   ]
  },
  {
   "cell_type": "code",
   "execution_count": 89,
   "id": "d096a6f6",
   "metadata": {},
   "outputs": [],
   "source": [
    "def follow_unfollow(name) :\n",
    "    '''\n",
    "    Takes the username as input\n",
    "    open the user profile\n",
    "    if following :\n",
    "        the user will unfollowed and \n",
    "        prints the message \"Started Unfollowing\"\n",
    "    else :\n",
    "        the user will followand \n",
    "        prints the message \"Started following\"\n",
    "    '''\n",
    "    search_user(name)\n",
    "    wait = WebDriverWait(driver, 10)\n",
    "    follow_btn = wait.until(EC.presence_of_element_located((By.XPATH, \"//div[@class = '_ap3a _aaco _aacw _aad6 _aade']\")))\n",
    "    s = follow_btn.text\n",
    "    if s == 'Follow' :\n",
    "        follow_btn.click()\n",
    "        time.sleep(5)\n",
    "        print('Started Following')\n",
    "    else :\n",
    "        follow_btn.click()\n",
    "        unfollow_btn = wait.until(EC.presence_of_all_elements_located((By.XPATH, \"//span[@class = 'x1lliihq x1plvlek xryxfnj x1n2onr6 x193iq5w xeuugli x1fj9vlw x13faqbe x1vvkbs x1s928wv xhkezso x1gmr53x x1cpjm7i x1fgarty x1943h6x x1i0vuye xvs91rp xo1l8bm x5n08af x10wh9bi x1wdrske x8viiok x18hxmgj']\")))\n",
    "        unfollow_btn[-1].click()\n",
    "        time.sleep(5)\n",
    "        print('Started Unfollowing')"
   ]
  },
  {
   "cell_type": "code",
   "execution_count": 90,
   "id": "10d4b4f8",
   "metadata": {},
   "outputs": [
    {
     "name": "stdout",
     "output_type": "stream",
     "text": [
      "Started Following\n"
     ]
    }
   ],
   "source": [
    "follow_unfollow('sodelhi')"
   ]
  },
  {
   "cell_type": "code",
   "execution_count": 91,
   "id": "5543ee67",
   "metadata": {},
   "outputs": [
    {
     "name": "stdout",
     "output_type": "stream",
     "text": [
      "Started Unfollowing\n"
     ]
    }
   ],
   "source": [
    "follow_unfollow('sodelhi')"
   ]
  },
  {
   "cell_type": "markdown",
   "id": "4c1e0d38",
   "metadata": {},
   "source": [
    "### Problem 5 : Like/Unlike posts\n",
    "Like/Unlike posts  \n",
    "1.Liking the top 30 posts of the ‘dilsefoodie'. Print message if you have already liked it.  \n",
    "2.Unliking the top 30 posts of the ‘dilsefoodie’. Print message if you have already unliked it."
   ]
  },
  {
   "cell_type": "code",
   "execution_count": 95,
   "id": "e8b58227",
   "metadata": {},
   "outputs": [],
   "source": [
    "def like_post(name, num) :\n",
    "    '''\n",
    "    Takes username and number of posts as inputs\n",
    "    and performs like or unlike\n",
    "    To like or to unlink a post we are going to \n",
    "    use the same button so \n",
    "    this method can be used for liking n post \n",
    "    and unliking n post\n",
    "    '''\n",
    "    search_user(name)\n",
    "    wait = WebDriverWait(driver, 10)\n",
    "    post = wait.until(EC.presence_of_element_located((By.XPATH, \"//article[@class = 'x1iyjqo2']/div/div/div/div\")))\n",
    "    post.click()\n",
    "    flag = True\n",
    "    for i in range(num) :\n",
    "        like = wait.until(EC.presence_of_element_located((By.XPATH, \"//span[@class='_aamw']//div[@role='button']\")))\n",
    "        like.click()\n",
    "        nxt = driver.find_element(By.XPATH, \"//div[@class=' _aaqg _aaqh']\")\n",
    "        nxt.click()\n",
    "    close = driver.find_element(By.XPATH, \"(//div[contains(@role,'button')])[8]\")\n",
    "    close.click()"
   ]
  },
  {
   "cell_type": "code",
   "execution_count": 96,
   "id": "716f5ce2",
   "metadata": {},
   "outputs": [],
   "source": [
    "like_post('dilsefoodie', 30)"
   ]
  },
  {
   "cell_type": "markdown",
   "id": "191172ff",
   "metadata": {},
   "source": [
    "### Unlike top 30 post of dilsefoodie"
   ]
  },
  {
   "cell_type": "code",
   "execution_count": 97,
   "id": "07533108",
   "metadata": {},
   "outputs": [],
   "source": [
    "like_post('dilsefoodie', 30)"
   ]
  },
  {
   "cell_type": "markdown",
   "id": "f99899e9",
   "metadata": {},
   "source": [
    "## Extracting Followers List"
   ]
  },
  {
   "cell_type": "markdown",
   "id": "4a1dd09c",
   "metadata": {},
   "source": [
    "### Problem 6 : Extract list of followers\n",
    "Extract list of followers  \n",
    "1.Extract the usernames of the first 500 followers of ‘foodtalkindia’ and ‘sodelhi’.  \n",
    "2.Now print all the followers of “foodtalkindia” that you are following but those who don’t follow you."
   ]
  },
  {
   "cell_type": "code",
   "execution_count": 107,
   "id": "f20c0c26",
   "metadata": {},
   "outputs": [],
   "source": [
    "def followers(name) :\n",
    "    '''\n",
    "    Takes user name as input and \n",
    "    return the list of followers\n",
    "    some accounts may have restricted the access of all followers info\n",
    "    '''\n",
    "    search_user(name)\n",
    "    wait = WebDriverWait(driver, 10)\n",
    "    followers_link = wait.until(EC.presence_of_all_elements_located((By.XPATH, \"//a[@class = 'x1i10hfl xjbqb8w x6umtig x1b1mbwd xaqea5y xav7gou x9f619 x1ypdohk xt0psk2 xe8uvvx xdj266r x11i5rnm xat24cr x1mh8g0r xexx8yu x4uap5 x18d9i69 xkhd6sd x16tdsg8 x1hl2dhg xggy1nq x1a2a7pz _alvs _a6hd']\")))\n",
    "    followers_link[0].click()\n",
    "    names = wait.until(EC.presence_of_all_elements_located((By.XPATH, \"//span[@class = '_ap3a _aaco _aacw _aacx _aad7 _aade']\")))\n",
    "    followers = []\n",
    "    for i in range(len(names)) :\n",
    "        followers.append(names[i].text)\n",
    "    driver.find_element(By.CLASS_NAME, '_abl-').click()\n",
    "    return followers"
   ]
  },
  {
   "cell_type": "code",
   "execution_count": 108,
   "id": "e8b5a035",
   "metadata": {
    "scrolled": true
   },
   "outputs": [
    {
     "data": {
      "text/plain": [
       "['ramram_6680',\n",
       " 'fun_nybunny93',\n",
       " 'angom_damcha',\n",
       " 'kimklite17',\n",
       " 'jenny25984mick',\n",
       " '21candlesrestro',\n",
       " 'winash_17',\n",
       " 'journeytofeastandexplore',\n",
       " 'bhelwalaakash',\n",
       " 'bonbonpastryshopjaitpur',\n",
       " 'chaigaramtalk',\n",
       " 'dinehaul',\n",
       " 'dipali3938',\n",
       " 'divyaaa.official_',\n",
       " 'earth_story_farms',\n",
       " 'foi_kamlanagardelhi',\n",
       " 'food_picked',\n",
       " 'gobikrishnankk',\n",
       " 'justbrand101222',\n",
       " 'ikramalam856933449708',\n",
       " 'kapilahluwalia2023',\n",
       " 'kitchenkravings95',\n",
       " 'bittukakhanakhazana',\n",
       " 'mas.flavours.coventry',\n",
       " 'maitritourstravels',\n",
       " 'manorbythearavalli',\n",
       " 'letsmealit',\n",
       " 'miljomilleticecream',\n",
       " 'scrabble_2__unscrable_',\n",
       " 'ratheesh_narayanan86',\n",
       " 'rehan__official__555',\n",
       " 'newtols',\n",
       " 'scp1911',\n",
       " 'santurajwade8',\n",
       " 'india_in_a_minute',\n",
       " 'sexchat.com.1',\n",
       " 'shashe.in',\n",
       " 'naik.captures',\n",
       " 'sonia.rajpal.5688',\n",
       " 'pmalykhina_',\n",
       " 'the_coal_depot',\n",
       " 'thedailydrinkss',\n",
       " 'selingertracey',\n",
       " 'uniformiti',\n",
       " 'lifeloveandfood23',\n",
       " 'wellubia',\n",
       " 'thedrunkendoozy',\n",
       " '_._._w_t_f_._._',\n",
       " 'pappusaxena23',\n",
       " 'rahulsinghpahadi']"
      ]
     },
     "execution_count": 108,
     "metadata": {},
     "output_type": "execute_result"
    }
   ],
   "source": [
    "foodtalkindia_followers = followers('foodtalkindia')\n",
    "foodtalkindia_followers"
   ]
  },
  {
   "cell_type": "code",
   "execution_count": 111,
   "id": "c4b5bdc8",
   "metadata": {},
   "outputs": [
    {
     "data": {
      "text/plain": [
       "['dehydrated_waterr',\n",
       " 'logophile323',\n",
       " 'vinay.kataria.963',\n",
       " '_justaditi',\n",
       " 'explore_delhincr',\n",
       " 'dilliwalabaniya',\n",
       " 'khalingnea',\n",
       " 'unvrealestate',\n",
       " 'artisticabode.curiocrafts',\n",
       " 'the_trendwali_official',\n",
       " '_vansh.sh',\n",
       " 'mohitpilaniya98']"
      ]
     },
     "execution_count": 111,
     "metadata": {},
     "output_type": "execute_result"
    }
   ],
   "source": [
    "sodelhi_followers = followers('sodelhi')\n",
    "sodelhi_followers"
   ]
  },
  {
   "cell_type": "markdown",
   "id": "054198e9",
   "metadata": {},
   "source": [
    "### Problem 7 : Check the story of ‘coding.ninjas’\n",
    "Check the story of ‘coding.ninjas’. Consider the following Scenarios and print error messages accordingly -  \n",
    "1.If You have already seen the story.  \n",
    "2.Or The user has no story.  \n",
    "3.Or View the story if not yet seen.  "
   ]
  },
  {
   "cell_type": "code",
   "execution_count": 70,
   "id": "fa3130bb",
   "metadata": {},
   "outputs": [],
   "source": [
    "search_user('coding.ninjas')"
   ]
  },
  {
   "cell_type": "code",
   "execution_count": 73,
   "id": "e6b95646",
   "metadata": {},
   "outputs": [],
   "source": [
    "search_user('ll_mt_lover_manu_ll')"
   ]
  },
  {
   "cell_type": "code",
   "execution_count": 74,
   "id": "bbc13823",
   "metadata": {},
   "outputs": [],
   "source": [
    "story = driver.find_element(By.XPATH, \"(//div[@class='_aarf _aarg'])\")\n",
    "view_story = story.get_attribute('aria-disabled')"
   ]
  },
  {
   "cell_type": "code",
   "execution_count": 75,
   "id": "820d4778",
   "metadata": {},
   "outputs": [
    {
     "name": "stdout",
     "output_type": "stream",
     "text": [
      "View the story\n"
     ]
    }
   ],
   "source": [
    "if view_story == 'true' :\n",
    "    print('The user has no story')\n",
    "else :\n",
    "    p = driver.find_element(By.XPATH, \"//div[@class = '_aarf _aarg']/canvas\")\n",
    "    cur_height = p.get_attribute('height')\n",
    "    cur_width = p.get_attribute('width')\n",
    "    story.click()\n",
    "    time.sleep(5)\n",
    "    wait = WebDriverWait(driver, 6000)\n",
    "    p = wait.until(EC.presence_of_element_located((By.XPATH, \"//div[@class = '_aarf _aarg']/canvas\")))\n",
    "    af_height = p.get_attribute('height')\n",
    "    af_width = p.get_attribute('width')\n",
    "    if cur_height == af_height :\n",
    "        print('Already Seen')\n",
    "    else :\n",
    "        print('seen, just now!')"
   ]
  },
  {
   "cell_type": "code",
   "execution_count": null,
   "id": "caf840ed",
   "metadata": {},
   "outputs": [],
   "source": []
  },
  {
   "cell_type": "code",
   "execution_count": 109,
   "id": "26fc4015",
   "metadata": {},
   "outputs": [],
   "source": [
    "driver.quit()"
   ]
  }
 ],
 "metadata": {
  "kernelspec": {
   "display_name": "Python 3 (ipykernel)",
   "language": "python",
   "name": "python3"
  },
  "language_info": {
   "codemirror_mode": {
    "name": "ipython",
    "version": 3
   },
   "file_extension": ".py",
   "mimetype": "text/x-python",
   "name": "python",
   "nbconvert_exporter": "python",
   "pygments_lexer": "ipython3",
   "version": "3.11.4"
  }
 },
 "nbformat": 4,
 "nbformat_minor": 5
}
